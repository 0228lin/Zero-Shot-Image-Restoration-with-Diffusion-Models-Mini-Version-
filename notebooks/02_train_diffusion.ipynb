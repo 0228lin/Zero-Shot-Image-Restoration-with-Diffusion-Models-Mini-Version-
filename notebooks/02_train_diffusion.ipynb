"""
- Import model, diffusion process
- For each training step:
    - Sample a batch of images
    - Sample a timestep t
    - Add noise (forward process)
    - Train TinyUNet to predict the noise (standard DDPM loss)
- Save checkpoints
- Plot loss curve
"""
