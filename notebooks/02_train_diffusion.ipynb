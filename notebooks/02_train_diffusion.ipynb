{
 "cells": [
  {
   "cell_type": "markdown",
   "metadata": {},
   "source": [
    "# 02_train_diffusion.ipynb\n",
    "\n",
    "Train a TinyUNet with diffusion noise prediction."
   ]
  },
  {
   "cell_type": "code",
   "metadata": {},
   "source": [
    "import torch\n",
    "from torch.utils.data import DataLoader, TensorDataset\n",
    "from src.models import TinyUNet\n",
    "from src.diffusion import SimpleDiffusion\n",
    "\n",
    "# Load images\n",
    "imgs = torch.load('../results/denoised/noisy_imgs.pt') if False else None  # placeholder for reloading\n",
    "import os\n",
    "from PIL import Image\n",
    "from torchvision import transforms\n",
    "img_dir = '../data/processed'\n",
    "img_size = 32\n",
    "transform = transforms.Compose([\n",
    "    transforms.ToTensor()\n",
    "])\n",
    "img_list = []\n",
    "for fname in os.listdir(img_dir):\n",
    "    if fname.endswith('.jpg') or fname.endswith('.png'):\n",
    "        img = Image.open(os.path.join(img_dir, fname)).convert('RGB')\n",
    "        img = img.resize((img_size, img_size))\n",
    "        img = transform(img)\n",
    "        img_list.append(img)\n",
    "imgs = torch.stack(img_list)\n",
    "\n",
    "device = 'cuda' if torch.cuda.is_available() else 'cpu'\n",
    "model = TinyUNet().to(device)\n",
    "optimizer = torch.optim.Adam(model.parameters(), lr=1e-3)\n",
    "diffusion = SimpleDiffusion(device=device)\n",
    "\n",
    "dataset = TensorDataset(imgs)\n",
    "loader = DataLoader(dataset, batch_size=8, shuffle=True)\n",
    "\n",
    "epochs = 5\n",
    "for epoch in range(epochs):\n",
    "    losses = []\n",
    "    for batch in loader:\n",
    "        x = batch[0].to(device)\n",
    "        t = diffusion.sample_timesteps(x.size(0)).to(device)\n",
    "        x_noisy, noise = diffusion.add_noise(x, t)\n",
    "        pred_noise = model(x_noisy, t)\n",
    "        loss = ((pred_noise - noise)**2).mean()\n",
    "        optimizer.zero_grad()\n",
    "        loss.backward()\n",
    "        optimizer.step()\n",
    "        losses.append(loss.item())\n",
    "    print(f'Epoch {epoch+1}, Loss: {sum(losses)/len(losses):.4f}')\n",
    "\n",
    "# Save model\n",
    "torch.save(model.state_dict(), '../results/denoised/tinyunet.pth')"
   ],
   "execution_count": null,
   "outputs": []
  }
 ],
 "metadata": {
  "kernelspec": {
   "display_name": "Python 3",
   "language": "python",
   "name": "python3"
  },
  "language_info": {
   "name": "python",
   "version": "3.9"
  }
 },
 "nbformat": 4,
 "nbformat_minor": 2
}
