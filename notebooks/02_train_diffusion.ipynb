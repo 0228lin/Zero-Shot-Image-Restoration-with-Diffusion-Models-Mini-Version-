"""
- Import model, diffusion process
- For each training step:
    - Sample a batch of images
    - Sample a timestep t
    - Add noise (forward process)
    - Train TinyUNet to predict the noise (standard DDPM loss)
- Save checkpoints
- Plot loss curve
"""


from src.models import TinyUNet
from src.diffusion import SimpleDiffusion

device = 'cuda' if torch.cuda.is_available() else 'cpu'
model = TinyUNet().to(device)
optimizer = torch.optim.Adam(model.parameters(), lr=1e-3)
diffusion = SimpleDiffusion(device=device)

# X: shape (N, 3, H, W)
for epoch in range(5):  # 5 epochs for quick test
    for x in dataloader:
        x = x.to(device)
        t = diffusion.sample_timesteps(x.size(0)).to(device)
        x_noisy, noise = diffusion.add_noise(x, t)
        pred_noise = model(x_noisy, t)
        loss = ((pred_noise - noise)**2).mean()
        optimizer.zero_grad()
        loss.backward()
        optimizer.step()
