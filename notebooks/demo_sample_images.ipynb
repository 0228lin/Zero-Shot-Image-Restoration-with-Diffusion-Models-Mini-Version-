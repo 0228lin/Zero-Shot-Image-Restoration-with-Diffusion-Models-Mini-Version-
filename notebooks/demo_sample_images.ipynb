{
 "cells": [
  {
   "cell_type": "markdown",
   "metadata": {},
   "source": [
    "# Demo: Display Sampled CIFAR100 Images\n",
    "\n",
    "Visualize sampled images from `data/sample_images/`."
   ]
  },
  {
   "cell_type": "code",
   "metadata": {},
   "source": [
    "import os\n",
    "from PIL import Image\n",
    "import matplotlib.pyplot as plt\n",
    "\n",
    "sample_dir = '../data/sample_images'\n",
    "img_files = [f for f in os.listdir(sample_dir) if f.endswith('.png')]\n",
    "\n",
    "# Show first 10 images in a 2x5 grid\n",
    "n_show = min(10, len(img_files))\n",
    "fig, axs = plt.subplots(2, 5, figsize=(12, 5))\n",
    "for idx, ax in enumerate(axs.flatten()):\n",
    "    if idx < n_show:\n",
    "        img = Image.open(os.path.join(sample_dir, img_files[idx]))\n",
    "        ax.imshow(img)\n",
    "        ax.set_title(img_files[idx][:20], fontsize=8)\n",
    "        ax.axis('off')\n",
    "    else:\n",
    "        ax.axis('off')\n",
    "plt.tight_layout()\n",
    "plt.show()"
   ],
   "execution_count": null,
   "outputs": []
  }
 ],
 "metadata": {
  "kernelspec": {
   "display_name": "Python 3",
   "language": "python",
   "name": "python3"
  },
  "language_info": {
   "name": "python",
   "version": "3.9"
  }
 },
 "nbformat": 4,
 "nbformat_minor": 2
}
