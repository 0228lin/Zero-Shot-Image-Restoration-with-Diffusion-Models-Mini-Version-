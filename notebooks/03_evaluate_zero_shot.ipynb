"""
- Take trained model
- Test on images with *unseen* noise type (e.g., higher/lower sigma, salt-and-pepper noise)
- Compare denoised output to original
- Compute PSNR
- Visualize results
"""
