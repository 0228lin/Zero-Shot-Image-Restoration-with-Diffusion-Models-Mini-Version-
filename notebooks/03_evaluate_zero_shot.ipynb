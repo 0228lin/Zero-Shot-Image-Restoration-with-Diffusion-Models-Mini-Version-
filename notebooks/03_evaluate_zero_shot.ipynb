{
 "cells": [
  {
   "cell_type": "markdown",
   "metadata": {},
   "source": [
    "# 03_evaluate_zero_shot.ipynb\n",
    "\n",
    "Test on unseen noise level (zero-shot), visualize results, compute PSNR."
   ]
  },
  {
   "cell_type": "code",
   "metadata": {},
   "source": [
    "import torch\n",
    "from src.models import TinyUNet\n",
    "from src.diffusion import SimpleDiffusion\n",
    "from src.metrics import psnr\n",
    "from torchvision import transforms\n",
    "import os\n",
    "from PIL import Image\n",
    "import matplotlib.pyplot as plt\n",
    "\n",
    "img_dir = '../data/processed'\n",
    "img_size = 32\n",
    "transform = transforms.Compose([\n",
    "    transforms.ToTensor()\n",
    "])\n",
    "img_list = []\n",
    "for fname in os.listdir(img_dir):\n",
    "    if fname.endswith('.jpg') or fname.endswith('.png'):\n",
    "        img = Image.open(os.path.join(img_dir, fname)).convert('RGB')\n",
    "        img = img.resize((img_size, img_size))\n",
    "        img = transform(img)\n",
    "        img_list.append(img)\n",
    "imgs = torch.stack(img_list)\n",
    "\n",
    "# Add *unseen* noise (higher sigma)\n",
    "noisy_imgs = imgs + 0.4 * torch.randn_like(imgs)\n",
    "noisy_imgs = torch.clamp(noisy_imgs, 0., 1.)\n",
    "\n",
    "device = 'cuda' if torch.cuda.is_available() else 'cpu'\n",
    "model = TinyUNet().to(device)\n",
    "model.load_state_dict(torch.load('../results/denoised/tinyunet.pth', map_location=device))\n",
    "model.eval()\n",
    "\n",
    "denoised_imgs = []\n",
    "for i in range(noisy_imgs.size(0)):\n",
    "    noisy = noisy_imgs[i:i+1].to(device)\n",
    "    with torch.no_grad():\n",
    "        pred = model(noisy)\n",
    "    denoised_imgs.append(pred.cpu().squeeze(0))\n",
    "denoised_imgs = torch.stack(denoised_imgs)\n",
    "\n",
    "# Visualize and compute PSNR\n",
    "for i in range(5):\n",
    "    fig, axs = plt.subplots(1,3,figsize=(12,4))\n",
    "    axs[0].imshow(imgs[i].permute(1,2,0))\n",
    "    axs[0].set_title('Original')\n",
    "    axs[1].imshow(noisy_imgs[i].permute(1,2,0))\n",
    "    axs[1].set_title('Noisy (unseen sigma)')\n",
    "    axs[2].imshow(denoised_imgs[i].permute(1,2,0).clamp(0,1))\n",
    "    axs[2].set_title('Denoised')\n",
    "    for a in axs: a.axis('off')\n",
    "    plt.show()\n",
    "    print(f'PSNR: {psnr(imgs[i], denoised_imgs[i]):.2f} dB')"
   ],
   "execution_count": null,
   "outputs": []
  }
 ],
 "metadata": {
  "kernelspec": {
   "display_name": "Python 3",
   "language": "python",
   "name": "python3"
  },
  "language_info": {
   "name": "python",
   "version": "3.9"
  }
 },
 "nbformat": 4,
 "nbformat_minor": 2
}
