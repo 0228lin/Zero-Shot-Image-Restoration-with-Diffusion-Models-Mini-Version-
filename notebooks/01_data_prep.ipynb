{
 "cells": [
  {
   "cell_type": "markdown",
   "metadata": {},
   "source": [
    "# 01_data_prep.ipynb\n",
    "\n",
    "Prepare and visualize your dataset."
   ]
  },
  {
   "cell_type": "code",
   "metadata": {},
   "source": [
    "import os\n",
    "from PIL import Image\n",
    "import torch\n",
    "from torchvision import transforms\n",
    "import matplotlib.pyplot as plt\n",
    "\n",
    "img_dir = '../data/processed'\n",
    "img_size = 32\n",
    "\n",
    "transform = transforms.Compose([\n",
    "    transforms.ToTensor()\n",
    "])\n",
    "\n",
    "img_list = []\n",
    "for fname in os.listdir(img_dir):\n",
    "    if fname.endswith('.jpg') or fname.endswith('.png'):\n",
    "        img = Image.open(os.path.join(img_dir, fname)).convert('RGB')\n",
    "        img = img.resize((img_size, img_size))\n",
    "        img = transform(img)\n",
    "        img_list.append(img)\n",
    "imgs = torch.stack(img_list)\n",
    "print('Loaded', imgs.shape[0], 'images')\n",
    "\n",
    "# Visualize a few images\n",
    "fig, axs = plt.subplots(1, 5, figsize=(15,3))\n",
    "for i in range(5):\n",
    "    axs[i].imshow(imgs[i].permute(1,2,0))\n",
    "    axs[i].axis('off')\n",
    "plt.show()"
   ],
   "execution_count": null,
   "outputs": []
  },
  {
   "cell_type": "markdown",
   "metadata": {},
   "source": [
    "## Add Gaussian noise and save noisy images"
   ]
  },
  {
   "cell_type": "code",
   "metadata": {},
   "source": [
    "import numpy as np\n",
    "noisy_imgs = imgs + 0.2 * torch.randn_like(imgs)\n",
    "noisy_imgs = torch.clamp(noisy_imgs, 0., 1.)\n",
    "\n",
    "# Visualize\n",
    "fig, axs = plt.subplots(1, 5, figsize=(15,3))\n",
    "for i in range(5):\n",
    "    axs[i].imshow(noisy_imgs[i].permute(1,2,0))\n",
    "    axs[i].axis('off')\n",
    "plt.show()\n",
    "\n",
    "# Save for later use\n",
    "os.makedirs('../results/denoised', exist_ok=True)\n",
    "for i in range(len(noisy_imgs)):\n",
    "    img = transforms.ToPILImage()(noisy_imgs[i])\n",
    "    img.save(f'../results/denoised/noisy_{i}.png')"
   ],
   "execution_count": null,
   "outputs": []
  }
 ],
 "metadata": {
  "kernelspec": {
   "display_name": "Python 3",
   "language": "python",
   "name": "python3"
  },
  "language_info": {
   "name": "python",
   "version": "3.9"
  }
 },
 "nbformat": 4,
 "nbformat_minor": 2
}
