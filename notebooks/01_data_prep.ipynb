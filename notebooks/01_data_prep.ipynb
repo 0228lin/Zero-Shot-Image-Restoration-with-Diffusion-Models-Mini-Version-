# 01_data_prep.ipynb
"""
- Load a few images from data/sample_images
- Normalize to [0,1], convert to torch tensors
- Add Gaussian noise (sigma=0.1, 0.2, 0.3)
- Visualize original and noisy images
- Save a few noisy samples for later use
"""
